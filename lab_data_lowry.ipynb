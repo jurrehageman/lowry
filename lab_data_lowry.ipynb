{
 "cells": [
  {
   "cell_type": "markdown",
   "metadata": {},
   "source": [
    "# Lowry"
   ]
  },
  {
   "cell_type": "code",
   "execution_count": 30,
   "metadata": {},
   "outputs": [],
   "source": [
    "import math\n",
    "import numpy as np\n",
    "import pandas as pd\n",
    "import seaborn as sns\n",
    "import matplotlib.pyplot as plt\n",
    "from scipy.optimize import curve_fit"
   ]
  },
  {
   "cell_type": "markdown",
   "metadata": {},
   "source": [
    "## Data for callibration curve:"
   ]
  },
  {
   "cell_type": "code",
   "execution_count": 5,
   "metadata": {},
   "outputs": [
    {
     "name": "stdout",
     "output_type": "stream",
     "text": [
      "       conc  absorption\n",
      "0   0.00000       0.063\n",
      "1   0.00000       0.050\n",
      "2   0.02500       0.172\n",
      "3   0.02500       0.165\n",
      "4   0.03125       0.204\n",
      "5   0.03125       0.191\n",
      "6   0.04167       0.235\n",
      "7   0.04167       0.249\n",
      "8   0.06250       0.329\n",
      "9   0.06250       0.330\n",
      "10  0.12500       0.539\n",
      "11  0.12500       0.536\n",
      "12  0.25000       0.812\n",
      "13  0.25000       0.821\n"
     ]
    }
   ],
   "source": [
    "df = pd.read_csv ('raw_data.csv', sep=\"\\t\", decimal=\",\", header=None, names=[\"conc\", \"absorption\"])\n",
    "print(df)"
   ]
  },
  {
   "cell_type": "markdown",
   "metadata": {},
   "source": [
    "## Data of unknowns\n"
   ]
  },
  {
   "cell_type": "code",
   "execution_count": 6,
   "metadata": {},
   "outputs": [
    {
     "data": {
      "text/plain": [
       "0.202"
      ]
     },
     "execution_count": 6,
     "metadata": {},
     "output_type": "execute_result"
    }
   ],
   "source": [
    "y1 = 0.208\n",
    "y2 = 0.196\n",
    "y_mean = np.mean([y1, y2])\n",
    "y_mean"
   ]
  },
  {
   "cell_type": "markdown",
   "metadata": {},
   "source": [
    "# Plot the callibration curve and second degree polynomial regression analysis:\n"
   ]
  },
  {
   "cell_type": "code",
   "execution_count": 16,
   "metadata": {},
   "outputs": [
    {
     "data": {
      "text/plain": [
       "Text(0.5, 1.0, 'Lowry')"
      ]
     },
     "execution_count": 16,
     "metadata": {},
     "output_type": "execute_result"
    },
    {
     "data": {
      "image/png": "[encoded data removed]",
      "text/plain": [
       "<Figure size 432x288 with 1 Axes>"
      ]
     },
     "metadata": {
      "needs_background": "light"
     },
     "output_type": "display_data"
    }
   ],
   "source": [
    "#sns.regplot(x=df.iloc[:,0], y=df.iloc[:, 1], scatter=True, order=2, data=df)\n",
    "sns.regplot(x=df.iloc[:,0], y=df.iloc[:, 1], scatter=True, order=2, data=df)\n",
    "plt.xlabel('Concentration (mg/mL)')\n",
    "plt.ylabel('Absorption')\n",
    "plt.title('Lowry')"
   ]
  },
  {
   "cell_type": "code",
   "execution_count": 36,
   "metadata": {},
   "outputs": [
    {
     "name": "stdout",
     "output_type": "stream",
     "text": [
      "-6.65670011633704\n",
      "4.699671907412292\n",
      "0.057139834318500615\n"
     ]
    }
   ],
   "source": [
    "def objective(x, a, b, c):\n",
    "    return a * x + b * x**2 + c\n",
    "\n",
    "x = df.iloc[:,0]\n",
    "y = df.iloc[:,1]\n",
    "popt, _ = curve_fit(objective, x, y)\n",
    "b, a, c = popt\n",
    "print(a)\n",
    "print(b)\n",
    "print(c)"
   ]
  },
  {
   "cell_type": "code",
   "execution_count": 37,
   "metadata": {},
   "outputs": [
    {
     "data": {
      "text/plain": [
       "-0.1448601656814994"
      ]
     },
     "execution_count": 37,
     "metadata": {},
     "output_type": "execute_result"
    }
   ],
   "source": [
    "c_adjusted = c - y_mean\n",
    "c_adjusted"
   ]
  },
  {
   "cell_type": "code",
   "execution_count": 38,
   "metadata": {},
   "outputs": [],
   "source": [
    "def abc(a, b, c):\n",
    "    discriminant = (b**2) - (4*a*c)\n",
    "    if discriminant < 0:\n",
    "        return None\n",
    "    elif discriminant > 0:\n",
    "        x1 = (-b + math.sqrt(discriminant)) / (2*a)\n",
    "        x2 = (-b - math.sqrt(discriminant)) / (2*a)\n",
    "        return x1, x2\n",
    "    else:\n",
    "        x = (-b) / (2*a)\n",
    "        return x"
   ]
  },
  {
   "cell_type": "code",
   "execution_count": 40,
   "metadata": {},
   "outputs": [
    {
     "name": "stdout",
     "output_type": "stream",
     "text": [
      "The concentration protein is: 0.032 mg/mL\n"
     ]
    }
   ],
   "source": [
    "answer = abc(a, b, c_adjusted)[0] # first intersection is correct.\n",
    "print(\"The concentration protein is:\", round(answer, 3), \"mg/mL\")"
   ]
  }
 ],
 "metadata": {
  "interpreter": {
   "hash": "bea0d1003074b12664ab1f18042b1954643f445769daf69d3b75a19719a72c47"
  },
  "kernelspec": {
   "display_name": "Python 3 (ipykernel)",
   "language": "python",
   "name": "python3"
  },
  "language_info": {
   "codemirror_mode": {
    "name": "ipython",
    "version": 3
   },
   "file_extension": ".py",
   "mimetype": "text/x-python",
   "name": "python",
   "nbconvert_exporter": "python",
   "pygments_lexer": "ipython3",
   "version": "3.8.10"
  }
 },
 "nbformat": 4,
 "nbformat_minor": 2
}
